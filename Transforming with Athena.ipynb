{
 "cells": [
  {
   "cell_type": "code",
   "execution_count": 1,
   "metadata": {},
   "outputs": [],
   "source": [
    "import boto3, pandas as pd \n",
    "from time import sleep"
   ]
  },
  {
   "cell_type": "code",
   "execution_count": 2,
   "metadata": {},
   "outputs": [],
   "source": [
    "AWS_ACCESS_KEY = \"<your-key>\"\n",
    "AWS_SECRET_KEY = \"<your-secret>\"\n",
    "AWS_REGION = \"<region>\"\n",
    "SCHEMA_NAME = \"<database-name>\"\n",
    "# S3_STAGING_DIR = \"s3://athenas3query-output2/output/\"\n",
    "S3_STAGING_DIR = \"s3://athenas3query-output2/\"\n",
    "S3_BUCKET_NAME = \"athenas3query-output2\"\n",
    "S3_OUTPUT_DIRECTORY = \"\""
   ]
  },
  {
   "cell_type": "code",
   "execution_count": 16,
   "metadata": {},
   "outputs": [],
   "source": [
    "athena_client=boto3.client('athena',aws_access_key_id=AWS_ACCESS_KEY,\n",
    "                              aws_secret_access_key=AWS_SECRET_KEY, \n",
    "                              region_name=AWS_REGION)"
   ]
  },
  {
   "cell_type": "code",
   "execution_count": 5,
   "metadata": {},
   "outputs": [],
   "source": [
    "# By Darshil\n",
    "Dict = {}\n",
    "def download_and_load_query_results(\n",
    "              client: boto3.client, query_response: Dict\n",
    ") -> pd.DataFrame:\n",
    "    \n",
    "    while True:\n",
    "        try:\n",
    "            # this function will load the first 1000 rows\n",
    "            client.get_query_results(\n",
    "                QueryExecutionId=query_response[\"QueryExecutionId\"]\n",
    "            )\n",
    "            # athena_client.get_query_execution(\n",
    "            #     QueryExecutionId=response[\"QueryExecutionId\"]\n",
    "            # )\n",
    "            break\n",
    "        except Exception as err:\n",
    "            if 'Query did not finish' in str(err):\n",
    "                sleep(0.01)\n",
    "            else:\n",
    "                raise err\n",
    "    temp_file_location:str ='athena_query_results.csv'\n",
    "    print(temp_file_location)\n",
    "    s3_client=boto3.client('s3',aws_access_key_id=AWS_ACCESS_KEY,\n",
    "                              aws_secret_access_key=AWS_SECRET_KEY, \n",
    "                              region_name=AWS_REGION)\n",
    "    s3_client.download_file(\n",
    "            S3_BUCKET_NAME,\n",
    "            # f\"{S3_OUTPUT_DIRECTORY}/{query_response['QueryExecutionId']}.csv/\",\n",
    "            f\"{query_response['QueryExecutionId']}.csv\",\n",
    "            temp_file_location\n",
    "        )\n",
    "    return pd.read_csv(temp_file_location)\n",
    "\n",
    "# download_and_load_query_results(athena_client,response)"
   ]
  },
  {
   "cell_type": "code",
   "execution_count": 14,
   "metadata": {},
   "outputs": [],
   "source": [
    "# My new function\n",
    "Dict = {}\n",
    "def download_query_results(\n",
    "              client: boto3.client, query: str\n",
    ") -> pd.DataFrame:\n",
    "    \n",
    "    response = athena_client.start_query_execution(\n",
    "    QueryString=query,\n",
    "    QueryExecutionContext={\"Database\": SCHEMA_NAME},\n",
    "    ResultConfiguration={ \n",
    "        \"OutputLocation\": S3_STAGING_DIR, \n",
    "        \"EncryptionConfiguration\": {\"EncryptionOption\": \"SSE_S3\"}\n",
    "    }) \n",
    "\n",
    "    while True:\n",
    "        res=athena_client.get_query_execution(\n",
    "            QueryExecutionId=response[\"QueryExecutionId\"]\n",
    "        )\n",
    "        status=res['QueryExecution']['Status']['State']\n",
    "        print(status)\n",
    "        if status=='SUCCEEDED':\n",
    "            break\n",
    "        else:\n",
    "            sleep(0.5)\n",
    "\n",
    "    print('Query_executed SUCCEEDED')\n",
    "    temp_file_location:str ='athena_query_results.csv'\n",
    "    print(temp_file_location)\n",
    "    s3_client=boto3.client('s3',aws_access_key_id=AWS_ACCESS_KEY,\n",
    "                              aws_secret_access_key=AWS_SECRET_KEY, \n",
    "                              region_name=AWS_REGION)\n",
    "    print('dowloading the csv')\n",
    "    s3_client.download_file(\n",
    "            S3_BUCKET_NAME,\n",
    "            # f\"{S3_OUTPUT_DIRECTORY}/{query_response['QueryExecutionId']}.csv/\",\n",
    "            f\"{response['QueryExecutionId']}.csv\",\n",
    "            temp_file_location\n",
    "        )\n",
    "    return pd.read_csv(temp_file_location)"
   ]
  },
  {
   "cell_type": "code",
   "execution_count": 17,
   "metadata": {},
   "outputs": [],
   "source": [
    "response = athena_client.start_query_execution(\n",
    "    QueryString=\"SELECT * FROM enigma_nytimes_data_in_usa\",\n",
    "    QueryExecutionContext={\"Database\": SCHEMA_NAME},\n",
    "    ResultConfiguration={ \n",
    "        \"OutputLocation\": S3_STAGING_DIR, \n",
    "        \"EncryptionConfiguration\": {\"EncryptionOption\": \"SSE_S3\"}\n",
    "    }\n",
    ") "
   ]
  },
  {
   "cell_type": "code",
   "execution_count": 19,
   "metadata": {},
   "outputs": [
    {
     "data": {
      "text/plain": [
       "{'QueryExecutionId': '84322b1e-83e0-491f-b30b-6d69ae2be085',\n",
       " 'ResponseMetadata': {'RequestId': '6dd8c4de-7a45-43f4-bd0f-1268bf7e87e4',\n",
       "  'HTTPStatusCode': 200,\n",
       "  'HTTPHeaders': {'date': 'Fri, 12 May 2023 06:16:45 GMT',\n",
       "   'content-type': 'application/x-amz-json-1.1',\n",
       "   'content-length': '59',\n",
       "   'connection': 'keep-alive',\n",
       "   'x-amzn-requestid': '6dd8c4de-7a45-43f4-bd0f-1268bf7e87e4'},\n",
       "  'RetryAttempts': 0}}"
      ]
     },
     "execution_count": 19,
     "metadata": {},
     "output_type": "execute_result"
    }
   ],
   "source": [
    "response"
   ]
  },
  {
   "cell_type": "code",
   "execution_count": 23,
   "metadata": {},
   "outputs": [
    {
     "name": "stdout",
     "output_type": "stream",
     "text": [
      "RUNNING\n",
      "SUCCEEDED\n",
      "Query_executed SUCCEEDED\n",
      "athena_query_results.csv\n",
      "dowloading the csv\n"
     ]
    }
   ],
   "source": [
    "query=\"SELECT * FROM enigma_jhud limit 5000\"\n",
    "enigma_jhud=download_query_results(client=athena_client,query=query)"
   ]
  },
  {
   "cell_type": "code",
   "execution_count": null,
   "metadata": {},
   "outputs": [],
   "source": [
    "enigma_jhud.head(2)"
   ]
  },
  {
   "cell_type": "code",
   "execution_count": 24,
   "metadata": {},
   "outputs": [
    {
     "name": "stdout",
     "output_type": "stream",
     "text": [
      "RUNNING\n",
      "SUCCEEDED\n",
      "Query_executed SUCCEEDED\n",
      "athena_query_results.csv\n",
      "dowloading the csv\n"
     ]
    }
   ],
   "source": [
    "query=\"SELECT * FROM enigma_nytimes_data_in_usa\"\n",
    "nytimes_data_in_usa=download_query_results(client=athena_client,query=query)"
   ]
  },
  {
   "cell_type": "code",
   "execution_count": 25,
   "metadata": {},
   "outputs": [
    {
     "name": "stdout",
     "output_type": "stream",
     "text": [
      "RUNNING\n",
      "SUCCEEDED\n",
      "Query_executed SUCCEEDED\n",
      "athena_query_results.csv\n",
      "dowloading the csv\n",
      "RUNNING\n",
      "SUCCEEDED\n",
      "Query_executed SUCCEEDED\n",
      "athena_query_results.csv\n",
      "dowloading the csv\n",
      "RUNNING\n",
      "SUCCEEDED\n",
      "Query_executed SUCCEEDED\n",
      "athena_query_results.csv\n",
      "dowloading the csv\n",
      "QUEUED\n",
      "RUNNING\n",
      "RUNNING\n",
      "RUNNING\n",
      "SUCCEEDED\n",
      "Query_executed SUCCEEDED\n",
      "athena_query_results.csv\n",
      "dowloading the csv\n"
     ]
    }
   ],
   "source": [
    "query=\"SELECT * FROM countrycode\"\n",
    "countrycode=download_query_results(client=athena_client,query=query)\n",
    "\n",
    "query=\"SELECT * FROM countypopulation\"\n",
    "countypopulation=download_query_results(client=athena_client,query=query)\n",
    "\n",
    "query=\"SELECT * FROM countypopulation\"\n",
    "countypopulation=download_query_results(client=athena_client,query=query)\n",
    "\n",
    "query=\"SELECT * FROM rearc_covid_19_testing_data\"\n",
    "rearc_covid_19_testing_data=download_query_results(client=athena_client,query=query)"
   ]
  },
  {
   "cell_type": "code",
   "execution_count": null,
   "metadata": {},
   "outputs": [],
   "source": [
    "query=\"SELECT * FROM rearc_usa_hospital_beds limit 2000\"\n",
    "rearc_usa_hospital_beds=download_query_results(client=athena_client,query=query)"
   ]
  },
  {
   "cell_type": "code",
   "execution_count": 28,
   "metadata": {},
   "outputs": [
    {
     "name": "stdout",
     "output_type": "stream",
     "text": [
      "RUNNING\n",
      "SUCCEEDED\n",
      "Query_executed SUCCEEDED\n",
      "athena_query_results.csv\n",
      "dowloading the csv\n"
     ]
    }
   ],
   "source": [
    "query=\"SELECT * FROM state_abv\"\n",
    "state_abv=download_query_results(client=athena_client,query=query)"
   ]
  },
  {
   "cell_type": "code",
   "execution_count": 29,
   "metadata": {},
   "outputs": [],
   "source": [
    "state_abv.head(2)\n",
    "new_header=state_abv.iloc[0]\n",
    "state_abv=state_abv[1:]\n",
    "state_abv.columns=new_header"
   ]
  },
  {
   "cell_type": "code",
   "execution_count": 30,
   "metadata": {},
   "outputs": [
    {
     "data": {
      "text/html": [
       "<div>\n",
       "<style scoped>\n",
       "    .dataframe tbody tr th:only-of-type {\n",
       "        vertical-align: middle;\n",
       "    }\n",
       "\n",
       "    .dataframe tbody tr th {\n",
       "        vertical-align: top;\n",
       "    }\n",
       "\n",
       "    .dataframe thead th {\n",
       "        text-align: right;\n",
       "    }\n",
       "</style>\n",
       "<table border=\"1\" class=\"dataframe\">\n",
       "  <thead>\n",
       "    <tr style=\"text-align: right;\">\n",
       "      <th></th>\n",
       "      <th>State</th>\n",
       "      <th>Abbreviation</th>\n",
       "    </tr>\n",
       "  </thead>\n",
       "  <tbody>\n",
       "    <tr>\n",
       "      <th>1</th>\n",
       "      <td>Alabama</td>\n",
       "      <td>AL</td>\n",
       "    </tr>\n",
       "    <tr>\n",
       "      <th>2</th>\n",
       "      <td>Alaska</td>\n",
       "      <td>AK</td>\n",
       "    </tr>\n",
       "  </tbody>\n",
       "</table>\n",
       "</div>"
      ],
      "text/plain": [
       "0    State Abbreviation\n",
       "1  Alabama           AL\n",
       "2   Alaska           AK"
      ]
     },
     "execution_count": 30,
     "metadata": {},
     "output_type": "execute_result"
    }
   ],
   "source": [
    "state_abv.head(2)"
   ]
  },
  {
   "cell_type": "code",
   "execution_count": 31,
   "metadata": {},
   "outputs": [],
   "source": [
    "factCovid_1 = enigma_jhud [['fips', 'province_state', 'country_region', 'confirmed', 'deaths', 'recovered', 'active']] \n",
    "factCovid_2 =rearc_covid_19_testing_data [['fips', 'date', 'positive', 'negative' ,'hospitalizedcurrently','hospitalized','hospitalizeddischarged' ]]\n",
    "factCovid=pd.merge(factCovid_1, factCovid_2, on=\"fips\", how=\"inner\")"
   ]
  },
  {
   "cell_type": "code",
   "execution_count": 44,
   "metadata": {},
   "outputs": [],
   "source": [
    "factCovid.to_csv('factCovid.csv')"
   ]
  },
  {
   "cell_type": "code",
   "execution_count": 32,
   "metadata": {},
   "outputs": [
    {
     "data": {
      "text/plain": [
       "(1995878, 13)"
      ]
     },
     "execution_count": 32,
     "metadata": {},
     "output_type": "execute_result"
    }
   ],
   "source": [
    "factCovid.shape"
   ]
  },
  {
   "cell_type": "code",
   "execution_count": 33,
   "metadata": {},
   "outputs": [],
   "source": [
    "dimRegion_1 = enigma_jhud[['fips', 'province_state','country_region','latitude','longitude']]\n",
    "dimRegion_2 = nytimes_data_in_usa[['fips','county','state']]\n",
    "dimRegion = pd.merge(dimRegion_1, dimRegion_2, on='fips', how='inner')"
   ]
  },
  {
   "cell_type": "code",
   "execution_count": 46,
   "metadata": {},
   "outputs": [],
   "source": [
    "dimRegion[:5000].to_csv('dimRegion.csv')"
   ]
  },
  {
   "cell_type": "code",
   "execution_count": 34,
   "metadata": {},
   "outputs": [
    {
     "data": {
      "text/html": [
       "<div>\n",
       "<style scoped>\n",
       "    .dataframe tbody tr th:only-of-type {\n",
       "        vertical-align: middle;\n",
       "    }\n",
       "\n",
       "    .dataframe tbody tr th {\n",
       "        vertical-align: top;\n",
       "    }\n",
       "\n",
       "    .dataframe thead th {\n",
       "        text-align: right;\n",
       "    }\n",
       "</style>\n",
       "<table border=\"1\" class=\"dataframe\">\n",
       "  <thead>\n",
       "    <tr style=\"text-align: right;\">\n",
       "      <th></th>\n",
       "      <th>fips</th>\n",
       "      <th>date</th>\n",
       "    </tr>\n",
       "  </thead>\n",
       "  <tbody>\n",
       "    <tr>\n",
       "      <th>0</th>\n",
       "      <td>NaN</td>\n",
       "      <td>1061101</td>\n",
       "    </tr>\n",
       "    <tr>\n",
       "      <th>1</th>\n",
       "      <td>NaN</td>\n",
       "      <td>20210307</td>\n",
       "    </tr>\n",
       "    <tr>\n",
       "      <th>2</th>\n",
       "      <td>NaN</td>\n",
       "      <td>20210306</td>\n",
       "    </tr>\n",
       "    <tr>\n",
       "      <th>3</th>\n",
       "      <td>NaN</td>\n",
       "      <td>20210305</td>\n",
       "    </tr>\n",
       "    <tr>\n",
       "      <th>4</th>\n",
       "      <td>NaN</td>\n",
       "      <td>20210304</td>\n",
       "    </tr>\n",
       "  </tbody>\n",
       "</table>\n",
       "</div>"
      ],
      "text/plain": [
       "   fips      date\n",
       "0   NaN   1061101\n",
       "1   NaN  20210307\n",
       "2   NaN  20210306\n",
       "3   NaN  20210305\n",
       "4   NaN  20210304"
      ]
     },
     "execution_count": 34,
     "metadata": {},
     "output_type": "execute_result"
    }
   ],
   "source": [
    "dimDate=rearc_covid_19_testing_data[['fips','date']]\n",
    "dimDate.head()"
   ]
  },
  {
   "cell_type": "code",
   "execution_count": 35,
   "metadata": {},
   "outputs": [
    {
     "data": {
      "text/html": [
       "<div>\n",
       "<style scoped>\n",
       "    .dataframe tbody tr th:only-of-type {\n",
       "        vertical-align: middle;\n",
       "    }\n",
       "\n",
       "    .dataframe tbody tr th {\n",
       "        vertical-align: top;\n",
       "    }\n",
       "\n",
       "    .dataframe thead th {\n",
       "        text-align: right;\n",
       "    }\n",
       "</style>\n",
       "<table border=\"1\" class=\"dataframe\">\n",
       "  <thead>\n",
       "    <tr style=\"text-align: right;\">\n",
       "      <th></th>\n",
       "      <th>fips</th>\n",
       "      <th>date</th>\n",
       "    </tr>\n",
       "  </thead>\n",
       "  <tbody>\n",
       "    <tr>\n",
       "      <th>0</th>\n",
       "      <td>NaN</td>\n",
       "      <td>1061101</td>\n",
       "    </tr>\n",
       "    <tr>\n",
       "      <th>1</th>\n",
       "      <td>NaN</td>\n",
       "      <td>20210307</td>\n",
       "    </tr>\n",
       "  </tbody>\n",
       "</table>\n",
       "</div>"
      ],
      "text/plain": [
       "   fips      date\n",
       "0   NaN   1061101\n",
       "1   NaN  20210307"
      ]
     },
     "execution_count": 35,
     "metadata": {},
     "output_type": "execute_result"
    }
   ],
   "source": [
    "dimDate.head(2)"
   ]
  },
  {
   "cell_type": "code",
   "execution_count": 36,
   "metadata": {},
   "outputs": [
    {
     "name": "stderr",
     "output_type": "stream",
     "text": [
      "C:\\Users\\WASIAH~1\\AppData\\Local\\Temp/ipykernel_26004/3325463671.py:1: SettingWithCopyWarning: \n",
      "A value is trying to be set on a copy of a slice from a DataFrame.\n",
      "Try using .loc[row_indexer,col_indexer] = value instead\n",
      "\n",
      "See the caveats in the documentation: https://pandas.pydata.org/pandas-docs/stable/user_guide/indexing.html#returning-a-view-versus-a-copy\n",
      "  dimDate['date']=pd.to_datetime(dimDate['date']).dt.date\n"
     ]
    },
    {
     "data": {
      "text/html": [
       "<div>\n",
       "<style scoped>\n",
       "    .dataframe tbody tr th:only-of-type {\n",
       "        vertical-align: middle;\n",
       "    }\n",
       "\n",
       "    .dataframe tbody tr th {\n",
       "        vertical-align: top;\n",
       "    }\n",
       "\n",
       "    .dataframe thead th {\n",
       "        text-align: right;\n",
       "    }\n",
       "</style>\n",
       "<table border=\"1\" class=\"dataframe\">\n",
       "  <thead>\n",
       "    <tr style=\"text-align: right;\">\n",
       "      <th></th>\n",
       "      <th>fips</th>\n",
       "      <th>date</th>\n",
       "    </tr>\n",
       "  </thead>\n",
       "  <tbody>\n",
       "    <tr>\n",
       "      <th>0</th>\n",
       "      <td>NaN</td>\n",
       "      <td>1970-01-01</td>\n",
       "    </tr>\n",
       "    <tr>\n",
       "      <th>1</th>\n",
       "      <td>NaN</td>\n",
       "      <td>1970-01-01</td>\n",
       "    </tr>\n",
       "  </tbody>\n",
       "</table>\n",
       "</div>"
      ],
      "text/plain": [
       "   fips        date\n",
       "0   NaN  1970-01-01\n",
       "1   NaN  1970-01-01"
      ]
     },
     "execution_count": 36,
     "metadata": {},
     "output_type": "execute_result"
    }
   ],
   "source": [
    "dimDate['date']=pd.to_datetime(dimDate['date']).dt.date\n",
    "dimDate.head(2)"
   ]
  },
  {
   "cell_type": "code",
   "execution_count": 37,
   "metadata": {},
   "outputs": [
    {
     "name": "stderr",
     "output_type": "stream",
     "text": [
      "C:\\Users\\WASIAH~1\\AppData\\Local\\Temp/ipykernel_26004/3809313168.py:1: SettingWithCopyWarning: \n",
      "A value is trying to be set on a copy of a slice from a DataFrame.\n",
      "Try using .loc[row_indexer,col_indexer] = value instead\n",
      "\n",
      "See the caveats in the documentation: https://pandas.pydata.org/pandas-docs/stable/user_guide/indexing.html#returning-a-view-versus-a-copy\n",
      "  dimDate['year']=pd.to_datetime(dimDate['date']).dt.year\n",
      "C:\\Users\\WASIAH~1\\AppData\\Local\\Temp/ipykernel_26004/3809313168.py:2: SettingWithCopyWarning: \n",
      "A value is trying to be set on a copy of a slice from a DataFrame.\n",
      "Try using .loc[row_indexer,col_indexer] = value instead\n",
      "\n",
      "See the caveats in the documentation: https://pandas.pydata.org/pandas-docs/stable/user_guide/indexing.html#returning-a-view-versus-a-copy\n",
      "  dimDate['month']=pd.to_datetime(dimDate['date']).dt.month\n",
      "C:\\Users\\WASIAH~1\\AppData\\Local\\Temp/ipykernel_26004/3809313168.py:3: SettingWithCopyWarning: \n",
      "A value is trying to be set on a copy of a slice from a DataFrame.\n",
      "Try using .loc[row_indexer,col_indexer] = value instead\n",
      "\n",
      "See the caveats in the documentation: https://pandas.pydata.org/pandas-docs/stable/user_guide/indexing.html#returning-a-view-versus-a-copy\n",
      "  dimDate['day_of_week']=pd.to_datetime(dimDate['date']).dt.dayofweek\n"
     ]
    },
    {
     "data": {
      "text/html": [
       "<div>\n",
       "<style scoped>\n",
       "    .dataframe tbody tr th:only-of-type {\n",
       "        vertical-align: middle;\n",
       "    }\n",
       "\n",
       "    .dataframe tbody tr th {\n",
       "        vertical-align: top;\n",
       "    }\n",
       "\n",
       "    .dataframe thead th {\n",
       "        text-align: right;\n",
       "    }\n",
       "</style>\n",
       "<table border=\"1\" class=\"dataframe\">\n",
       "  <thead>\n",
       "    <tr style=\"text-align: right;\">\n",
       "      <th></th>\n",
       "      <th>fips</th>\n",
       "      <th>date</th>\n",
       "      <th>year</th>\n",
       "      <th>month</th>\n",
       "      <th>day_of_week</th>\n",
       "    </tr>\n",
       "  </thead>\n",
       "  <tbody>\n",
       "    <tr>\n",
       "      <th>0</th>\n",
       "      <td>NaN</td>\n",
       "      <td>1970-01-01</td>\n",
       "      <td>1970</td>\n",
       "      <td>1</td>\n",
       "      <td>3</td>\n",
       "    </tr>\n",
       "    <tr>\n",
       "      <th>1</th>\n",
       "      <td>NaN</td>\n",
       "      <td>1970-01-01</td>\n",
       "      <td>1970</td>\n",
       "      <td>1</td>\n",
       "      <td>3</td>\n",
       "    </tr>\n",
       "  </tbody>\n",
       "</table>\n",
       "</div>"
      ],
      "text/plain": [
       "   fips        date  year  month  day_of_week\n",
       "0   NaN  1970-01-01  1970      1            3\n",
       "1   NaN  1970-01-01  1970      1            3"
      ]
     },
     "execution_count": 37,
     "metadata": {},
     "output_type": "execute_result"
    }
   ],
   "source": [
    "dimDate['year']=pd.to_datetime(dimDate['date']).dt.year\n",
    "dimDate['month']=pd.to_datetime(dimDate['date']).dt.month\n",
    "dimDate['day_of_week']=pd.to_datetime(dimDate['date']).dt.dayofweek\n",
    "dimDate.head(2)"
   ]
  },
  {
   "cell_type": "code",
   "execution_count": 38,
   "metadata": {},
   "outputs": [],
   "source": [
    "from io import StringIO"
   ]
  },
  {
   "cell_type": "code",
   "execution_count": 39,
   "metadata": {},
   "outputs": [],
   "source": [
    "csv_buffer=StringIO()"
   ]
  },
  {
   "cell_type": "code",
   "execution_count": 40,
   "metadata": {},
   "outputs": [],
   "source": [
    "factCovid.to_csv(csv_buffer)"
   ]
  },
  {
   "cell_type": "code",
   "execution_count": 42,
   "metadata": {},
   "outputs": [
    {
     "data": {
      "text/plain": [
       "'athenas3query-output2'"
      ]
     },
     "execution_count": 42,
     "metadata": {},
     "output_type": "execute_result"
    }
   ],
   "source": [
    "S3_BUCKET_NAME"
   ]
  },
  {
   "cell_type": "code",
   "execution_count": null,
   "metadata": {},
   "outputs": [],
   "source": [
    "s3_resource = boto3.resource('s3')\n",
    "s3_resource.Object(S3_BUCKET_NAME,'factCovid.csv').put(Body=csv_buffer.getvalue())"
   ]
  },
  {
   "cell_type": "code",
   "execution_count": null,
   "metadata": {},
   "outputs": [],
   "source": [
    "csv_buffer.getvalue()"
   ]
  }
 ],
 "metadata": {
  "kernelspec": {
   "display_name": "Python 3",
   "language": "python",
   "name": "python3"
  },
  "language_info": {
   "codemirror_mode": {
    "name": "ipython",
    "version": 3
   },
   "file_extension": ".py",
   "mimetype": "text/x-python",
   "name": "python",
   "nbconvert_exporter": "python",
   "pygments_lexer": "ipython3",
   "version": "3.9.6"
  },
  "orig_nbformat": 4
 },
 "nbformat": 4,
 "nbformat_minor": 2
}
